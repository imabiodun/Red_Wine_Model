{
 "cells": [
  {
   "cell_type": "markdown",
   "id": "c5faa9ad",
   "metadata": {},
   "source": [
    "\n",
    "# Data Wine Exploration"
   ]
  },
  {
   "cell_type": "code",
   "execution_count": null,
   "id": "124001da",
   "metadata": {},
   "outputs": [],
   "source": [
    "#importing Libraries\n",
    "import pandas as pd\n",
    "import numpy as np\n",
    "import matplotlib.pyplot as plt\n",
    "import seaborn as sns\n"
   ]
  },
  {
   "cell_type": "code",
   "execution_count": null,
   "id": "d0c40d2d",
   "metadata": {},
   "outputs": [],
   "source": [
    "from sklearn.metrics import confusion_matrix,ConfusionMatrixDisplay\n",
    "from sklearn.model_selection import train_test_split, GridSearchCV, cross_val_score\n",
    "from sklearn.metrics import mean_squared_error as mse, accuracy_score\n",
    "from scipy import stats\n",
    "from sklearn.pipeline import Pipeline\n",
    "from sklearn.tree import DecisionTreeClassifier\n",
    "from sklearn.preprocessing import StandardScaler,LabelEncoder\n",
    "from xgboost import XGBClassifier\n",
    "from sklearn.linear_model import Ridge\n",
    "from sklearn.neighbors import KNeighborsClassifier"
   ]
  },
  {
   "cell_type": "code",
   "execution_count": null,
   "id": "992b77d5",
   "metadata": {},
   "outputs": [],
   "source": [
    "data='winequality-red.csv'\n",
    "wine=pd.read_csv(data)"
   ]
  },
  {
   "cell_type": "code",
   "execution_count": null,
   "id": "88d13c32",
   "metadata": {},
   "outputs": [],
   "source": [
    "wine.info()"
   ]
  },
  {
   "cell_type": "markdown",
   "id": "91d76160-a10f-4f93-b4e6-d0a98e5c931d",
   "metadata": {},
   "source": [
    "qual_space=np.linspace(3,8,4)\n",
    "level=['Low','Mid','High']\n",
    "wine['quality-level']=pd.cut(wine['quality'],qual_space,labels=level, include_lowest=True)"
   ]
  },
  {
   "cell_type": "code",
   "execution_count": null,
   "id": "74a34629",
   "metadata": {
    "scrolled": true
   },
   "outputs": [],
   "source": [
    "wine.describe(include='all').round(3)"
   ]
  },
  {
   "cell_type": "code",
   "execution_count": null,
   "id": "1e90f8a7",
   "metadata": {},
   "outputs": [],
   "source": [
    "wine.agg(['min','max'])"
   ]
  },
  {
   "cell_type": "code",
   "execution_count": null,
   "id": "c5d9c60c",
   "metadata": {},
   "outputs": [],
   "source": [
    "wine['total sulfur dioxide']=(wine['total sulfur dioxide']-wine['total sulfur dioxide'].max())/(wine['total sulfur dioxide'].max()/wine['total sulfur dioxide'].min())"
   ]
  },
  {
   "cell_type": "code",
   "execution_count": null,
   "id": "1268486d",
   "metadata": {},
   "outputs": [],
   "source": [
    "def reg_col_against(df,col_1,col_2):\n",
    "    plt.figure(figsize=(15,5))\n",
    "    sns.regplot(wine[col_1],wine[col_2],line_kws={'color':'purple'})\n",
    "    plt.title(f'{col_1} against {col_2}')\n",
    "    plt.show()\n",
    "    plt.close()"
   ]
  },
  {
   "cell_type": "code",
   "execution_count": null,
   "id": "b71e6675",
   "metadata": {},
   "outputs": [],
   "source": [
    "# col_against(wine,'fixed acidity','citric acid')\n",
    "# col_against(wine,'free sulfur dioxide','total sulfur dioxide')\n",
    "# col_against(wine,'alcohol','quality')"
   ]
  },
  {
   "cell_type": "code",
   "execution_count": null,
   "id": "98a8759b-dff7-409d-aab9-57a6b6ea0366",
   "metadata": {},
   "outputs": [],
   "source": [
    "# plt.figure(figsize=(8,4))\n",
    "plt.hist(wine['quality'])\n",
    "plt.title('Count of Quality Outcome')"
   ]
  },
  {
   "cell_type": "code",
   "execution_count": null,
   "id": "168660cb",
   "metadata": {},
   "outputs": [],
   "source": [
    "plt.figure(figsize=(5,5))\n",
    "plt.pie(wine['quality'].value_counts(),labels=wine['quality'].value_counts().index,autopct='%1.2f%%',startangle=140,rotatelabels=45)\n",
    "plt.axis('equal')\n",
    "plt.tight_layout()\n",
    "# plt.axes(p)\n",
    "plt.title('Pie Chart for Wine Quality Categories' )\n",
    "plt.show()"
   ]
  },
  {
   "cell_type": "raw",
   "id": "9981a65a",
   "metadata": {},
   "source": [
    "sns.pairplot(wine)"
   ]
  },
  {
   "cell_type": "code",
   "execution_count": null,
   "id": "69dc1e42-c762-4171-b9f9-603f1e9a9f01",
   "metadata": {},
   "outputs": [],
   "source": [
    "wine.corr()['quality'].sort_values()"
   ]
  },
  {
   "cell_type": "code",
   "execution_count": null,
   "id": "d15f8f82",
   "metadata": {},
   "outputs": [],
   "source": [
    "plt.figure(figsize=(8,6))\n",
    "sns.heatmap(wine.corr(),cmap='RdBu',annot=True,cbar=True,fmt='.2f')\n",
    "plt.show()"
   ]
  },
  {
   "cell_type": "code",
   "execution_count": null,
   "id": "c914efc6",
   "metadata": {},
   "outputs": [],
   "source": []
  },
  {
   "cell_type": "code",
   "execution_count": null,
   "id": "a0e18a78",
   "metadata": {},
   "outputs": [],
   "source": [
    "# X=wine[['volatile acidity','citric acid', 'sulphates', 'alcohol','density','total sulfur dioxide']]\n",
    "X=wine.drop(columns=['quality'],axis=1)\n",
    "y=wine['quality']\n",
    "X_train,X_test,y_train,y_test=train_test_split(X,y,test_size=.2,random_state=22,stratify=y)"
   ]
  },
  {
   "cell_type": "code",
   "execution_count": null,
   "id": "d423802d-c489-4042-95b6-f1c165fce4b3",
   "metadata": {},
   "outputs": [],
   "source": [
    "scaler_=StandardScaler()\n",
    "label_=LabelEncoder()\n",
    "X_train_scaled=scaler_.fit_transform(X_train)\n",
    "X_test_scaled=scaler_.fit_transform(X_test)\n",
    "y_train_le=label_.fit_transform(y_train)\n",
    "y_test_le=label_.fit_transform(y_test)"
   ]
  },
  {
   "cell_type": "code",
   "execution_count": null,
   "id": "28ca35bc-4b5f-44d5-934f-38cf3ce7b784",
   "metadata": {},
   "outputs": [],
   "source": [
    "param_grid={\n",
    "    'max_depth':[6,10,13,15,18,20],\n",
    "    'criterion':['gini','log_loss'],\n",
    "    'max_features':[\"sqrt\", \"log2\"]\n",
    "}"
   ]
  },
  {
   "cell_type": "code",
   "execution_count": null,
   "id": "e250e214",
   "metadata": {},
   "outputs": [],
   "source": [
    "DTC=DecisionTreeClassifier(random_state=7,splitter='best',max_depth=5,)"
   ]
  },
  {
   "cell_type": "code",
   "execution_count": null,
   "id": "7d496111",
   "metadata": {
    "scrolled": true
   },
   "outputs": [],
   "source": [
    "grid_cv=GridSearchCV(DTC,param_grid,scoring='accuracy',cv=5)"
   ]
  },
  {
   "cell_type": "code",
   "execution_count": null,
   "id": "55e98d45-db50-45e7-b9fb-eb7a1fcf6255",
   "metadata": {},
   "outputs": [],
   "source": [
    "grid_cv.fit(X_train_scaled,y_train)"
   ]
  },
  {
   "cell_type": "code",
   "execution_count": null,
   "id": "acb52b6a-bc52-4033-8c85-f7eb447251ac",
   "metadata": {},
   "outputs": [],
   "source": [
    "grid_cv.best_params_,grid_cv.best_estimator_"
   ]
  },
  {
   "cell_type": "code",
   "execution_count": null,
   "id": "8c6e0e34",
   "metadata": {},
   "outputs": [],
   "source": [
    "y_pred_decision=grid_cv.predict(X_test_scaled)"
   ]
  },
  {
   "cell_type": "code",
   "execution_count": null,
   "id": "42711e50",
   "metadata": {},
   "outputs": [],
   "source": [
    "plt.figure(figsize=(8,6))\n",
    "sns.distplot(y_pred_decision,color='red',hist=False)\n",
    "sns.distplot(y_test,color='blue',hist=False)"
   ]
  },
  {
   "cell_type": "code",
   "execution_count": null,
   "id": "61d4c7e6-2685-44dc-b7a9-2b82e014a617",
   "metadata": {},
   "outputs": [],
   "source": [
    "confi_dtc=confusion_matrix(y_pred_decision,y_test)\n",
    "confi_dtc=confi_dtc/confi_dtc.sum(1)[:,np.newaxis]\n",
    "sns.heatmap(confi_dtc*100,annot=True,cmap='winter',xticklabels=np.unique(wine['quality']),yticklabels=np.unique(wine['quality']),fmt='.2f')\n",
    "plt.xlabel('Predicted Quality')\n",
    "plt.ylabel('True Quality')\n",
    "plt.title('Confusion Matrix of Predicted and True Outcome of Wine Quality')\n",
    "plt.show()"
   ]
  },
  {
   "cell_type": "code",
   "execution_count": null,
   "id": "7079a27a-ee0f-4933-bb65-8e8d23d18ad3",
   "metadata": {},
   "outputs": [],
   "source": []
  },
  {
   "cell_type": "code",
   "execution_count": null,
   "id": "826b1578-1821-48d4-8c5c-ed39ed065b09",
   "metadata": {},
   "outputs": [],
   "source": [
    "xgb=XGBClassifier(max_depth=18)"
   ]
  },
  {
   "cell_type": "code",
   "execution_count": null,
   "id": "88f012e1-7cbf-47e1-a908-cd65636a349a",
   "metadata": {},
   "outputs": [],
   "source": [
    "param_grid={\n",
    "    'max_depth':[6,10,13,15,18,20]\n",
    "}"
   ]
  },
  {
   "cell_type": "code",
   "execution_count": null,
   "id": "8939c38c-7556-4ef1-aa61-128e06e6ca49",
   "metadata": {
    "scrolled": true
   },
   "outputs": [],
   "source": [
    "xgb_cv=GridSearchCV(xgb,param_grid,cv=5,scoring='accuracy')\n",
    "xgb_cv.fit(X_train_scaled, y_train_le)"
   ]
  },
  {
   "cell_type": "code",
   "execution_count": null,
   "id": "1114ab88-b8e0-44b5-b038-31b069aeac26",
   "metadata": {},
   "outputs": [],
   "source": [
    "xgb_cv.best_params_,\n",
    "criterion='gini'\n",
    "max_depth= 10\n",
    "max_features='sqrt'\n",
    "xgb_cv.best_score_"
   ]
  },
  {
   "cell_type": "code",
   "execution_count": null,
   "id": "3fab9643-c10d-4f96-bb62-2fa392d1710a",
   "metadata": {},
   "outputs": [],
   "source": [
    "y_pred_xgb=xgb.predict(X_test_scaled)\n",
    "xgb_cv.score(X_train_scaled,y_train_le)"
   ]
  },
  {
   "cell_type": "code",
   "execution_count": null,
   "id": "67318167-3264-4ac7-9b99-199b1de57f42",
   "metadata": {
    "scrolled": true
   },
   "outputs": [],
   "source": [
    "sns.distplot(y_pred_xgb,hist=False)\n",
    "sns.distplot(y_test_le,hist=False,color='red')\n",
    "# plt.xticks([3,4,5,6,7,8])"
   ]
  },
  {
   "cell_type": "code",
   "execution_count": null,
   "id": "8f82d036-3440-41f9-aecc-3f42b241f768",
   "metadata": {},
   "outputs": [],
   "source": [
    "cm_xgb=confusion_matrix(y_pred_xgb,y_test_le)\n",
    "sns.heatmap(cm_xgb,cmap='winter',annot=True,xticklabels=np.unique(y_test.values),yticklabels=np.unique(y_test.values),fmt='.2f')\n",
    "plt.xlabel('PREDICTED QUALITY')\n",
    "plt.ylabel('TRUE QUALITY')"
   ]
  },
  {
   "cell_type": "code",
   "execution_count": null,
   "id": "bd97ffe5-80b9-481c-8fe4-17f19cfbbb0b",
   "metadata": {},
   "outputs": [],
   "source": [
    "param_grid={\n",
    "    'algorithm':['auto', 'ball_tree', 'kd_tree', 'brute'],\n",
    "    'weights':['uniform', 'distance'], # Weighting of neighbors (uniform or distance-based)\n",
    "    'n_neighbors': list(range(3,16,3)),   # Different values of k\n",
    "    'metric': ['euclidean', 'manhattan']\n",
    "}"
   ]
  },
  {
   "cell_type": "code",
   "execution_count": null,
   "id": "7c03848c-1102-4609-8300-ab0f0d082ed1",
   "metadata": {},
   "outputs": [],
   "source": [
    "knn1=KNeighborsClassifier()"
   ]
  },
  {
   "cell_type": "code",
   "execution_count": null,
   "id": "d50907cc",
   "metadata": {},
   "outputs": [],
   "source": [
    "knn_gcv=GridSearchCV(knn1,param_grid,cv=5)\n",
    "knn_gcv.fit(X_train_scaled,y_train)"
   ]
  },
  {
   "cell_type": "code",
   "execution_count": null,
   "id": "b2acb25d",
   "metadata": {},
   "outputs": [],
   "source": [
    "y_knn_pred=knn_gcv.predict(X_test_scaled)\n",
    "mse(y_knn_pred,y_test), accuracy_score(y_knn_pred,y_test),knn_gcv.best_params_\n"
   ]
  },
  {
   "cell_type": "code",
   "execution_count": null,
   "id": "71368ae7",
   "metadata": {},
   "outputs": [],
   "source": [
    "sns.distplot(y_knn_pred,hist=False,label='Predicted')\n",
    "sns.distplot(y_test,hist=False,color='red',label='True')\n",
    "plt.legend()"
   ]
  },
  {
   "cell_type": "code",
   "execution_count": null,
   "id": "ad964446",
   "metadata": {},
   "outputs": [],
   "source": [
    "confi_knn=confusion_matrix(y_test,y_knn_pred)\n",
    "confi_knn=(confi_knn/confi_knn.sum(1)[:,np.newaxis])"
   ]
  },
  {
   "cell_type": "code",
   "execution_count": null,
   "id": "67f75500-3ff3-43fb-9e74-baf3d3536219",
   "metadata": {},
   "outputs": [],
   "source": [
    "sns.heatmap(confi_knn,cmap='summer',annot=True,xticklabels=np.unique(y_test.values),yticklabels=np.unique(y_test.values),fmt='.2f')\n",
    "plt.xlabel('PREDICTED QUALITY')\n",
    "plt.ylabel('TRUE QUALITY')\n",
    "plt.title('% confusion matrix of Wine Quality')\n",
    "plt.show()"
   ]
  }
 ],
 "metadata": {
  "kernelspec": {
   "display_name": "Python 3 (ipykernel)",
   "language": "python",
   "name": "python3"
  },
  "language_info": {
   "codemirror_mode": {
    "name": "ipython",
    "version": 3
   },
   "file_extension": ".py",
   "mimetype": "text/x-python",
   "name": "python",
   "nbconvert_exporter": "python",
   "pygments_lexer": "ipython3",
   "version": "3.8.6"
  }
 },
 "nbformat": 4,
 "nbformat_minor": 5
}
